{
 "cells": [
  {
   "cell_type": "markdown",
   "id": "6c559aeb-8aa2-43a7-a71b-457cc0e8a8b3",
   "metadata": {},
   "source": [
    "Assignment 1"
   ]
  },
  {
   "cell_type": "code",
   "execution_count": 2,
   "id": "9c88d738-368a-42d4-b1a2-766f30695fdc",
   "metadata": {},
   "outputs": [
    {
     "name": "stdout",
     "output_type": "stream",
     "text": [
      "Barkha Yadav\n",
      "White\n",
      "Black\n"
     ]
    }
   ],
   "source": [
    "#1\n",
    "print(\"Barkha Yadav\")\n",
    "print(\"White\")\n",
    "print(\"Black\")"
   ]
  },
  {
   "cell_type": "code",
   "execution_count": 2,
   "id": "05b774de-688c-41e6-b880-299b26df6080",
   "metadata": {},
   "outputs": [
    {
     "name": "stdout",
     "output_type": "stream",
     "text": [
      "15\n"
     ]
    }
   ],
   "source": [
    "#2\n",
    "print(7+8)"
   ]
  },
  {
   "cell_type": "code",
   "execution_count": 5,
   "id": "c8f588e5-277a-454e-8eff-5621ad2e6adc",
   "metadata": {},
   "outputs": [
    {
     "name": "stdout",
     "output_type": "stream",
     "text": [
      "Python is fun! \n",
      "let's learn together.\n"
     ]
    }
   ],
   "source": [
    "#3\n",
    "print(\"Python is fun! \\nlet's learn together.\")\n",
    "       "
   ]
  },
  {
   "cell_type": "code",
   "execution_count": 6,
   "id": "69c9d615-e49a-43cf-b7c8-d8cb3caaaf59",
   "metadata": {},
   "outputs": [
    {
     "name": "stdout",
     "output_type": "stream",
     "text": [
      "54\n"
     ]
    }
   ],
   "source": [
    "#4\n",
    "print(6*9)"
   ]
  },
  {
   "cell_type": "code",
   "execution_count": 11,
   "id": "6c716fed-de93-47d8-8aaa-bce1cbb83b5d",
   "metadata": {},
   "outputs": [
    {
     "name": "stdout",
     "output_type": "stream",
     "text": [
      "5+5 = 10 and 2*3 = 6\n"
     ]
    }
   ],
   "source": [
    "#5\n",
    "print(f\"5+5 = {5+5} and 2*3 = {2*3}\")"
   ]
  },
  {
   "cell_type": "code",
   "execution_count": 15,
   "id": "26420abe-d5fb-414b-a79f-214627170ddd",
   "metadata": {},
   "outputs": [
    {
     "name": "stdin",
     "output_type": "stream",
     "text": [
      "enter your name:  A\n"
     ]
    },
    {
     "name": "stdout",
     "output_type": "stream",
     "text": [
      "Hello A\n"
     ]
    }
   ],
   "source": [
    "#6 \n",
    "name = input(\"enter your name: \")\n",
    "print(\"Hello\",name)"
   ]
  },
  {
   "cell_type": "code",
   "execution_count": 18,
   "id": "66f3cfbb-5d97-4b41-b1ae-d415114b0f2e",
   "metadata": {},
   "outputs": [
    {
     "name": "stdin",
     "output_type": "stream",
     "text": [
      "enter your savings:  25000\n",
      "enter amount to Google Pay:  8000\n"
     ]
    },
    {
     "name": "stdout",
     "output_type": "stream",
     "text": [
      "Bank Balance 17000\n"
     ]
    }
   ],
   "source": [
    "#7\n",
    "x =int(input(\"enter your savings: \"))\n",
    "y = int(input(\"enter amount to Google Pay: \"))\n",
    "print(\"Bank Balance\",x-y)"
   ]
  },
  {
   "cell_type": "code",
   "execution_count": 19,
   "id": "7a8ddc53-4e64-416a-bd2f-c75dcdbd95ef",
   "metadata": {},
   "outputs": [
    {
     "name": "stdout",
     "output_type": "stream",
     "text": [
      "A\n",
      "B\n",
      "C\n",
      "D\n",
      "E\n"
     ]
    }
   ],
   "source": [
    "#8\n",
    "print(\"A\")\n",
    "print(\"B\")\n",
    "print(\"C\")\n",
    "print(\"D\")\n",
    "print(\"E\")"
   ]
  },
  {
   "cell_type": "code",
   "execution_count": 22,
   "id": "d810a330-d56a-4b66-8d43-ed15a3d31917",
   "metadata": {},
   "outputs": [
    {
     "name": "stdin",
     "output_type": "stream",
     "text": [
      "enter your name:  A\n",
      "enter your name:  B\n"
     ]
    },
    {
     "name": "stdout",
     "output_type": "stream",
     "text": [
      "A says Hi to B\n"
     ]
    }
   ],
   "source": [
    "#9\n",
    "A =input(\"enter your name: \")\n",
    "B = input(\"enter your name: \")\n",
    "print(A, \"says Hi to\",B)"
   ]
  },
  {
   "cell_type": "markdown",
   "id": "a2c9f70e-b228-4802-b5dc-b66e79d20677",
   "metadata": {},
   "source": [
    "Assignment 2"
   ]
  },
  {
   "cell_type": "code",
   "execution_count": 13,
   "id": "dee496f8-4cc6-49ee-84a3-4ffa274108e4",
   "metadata": {},
   "outputs": [
    {
     "name": "stdout",
     "output_type": "stream",
     "text": [
      "age: 25 |Type: <class 'int'>\n"
     ]
    }
   ],
   "source": [
    "# 1\n",
    "age = 25\n",
    "print(\"age:\", age,\"|Type:\",type(age))"
   ]
  },
  {
   "cell_type": "code",
   "execution_count": 12,
   "id": "90a028b3-3427-4f58-b1da-2655bdb9cb21",
   "metadata": {},
   "outputs": [
    {
     "name": "stdout",
     "output_type": "stream",
     "text": [
      "price: 12.5 |Type: <class 'float'>\n",
      "New price: 12 |Type: <class 'int'>\n"
     ]
    }
   ],
   "source": [
    "# 2\n",
    "price = 12.5\n",
    "print(\"price:\",price,\"|Type:\",type(price))\n",
    "\n",
    "price = 12\n",
    "print(\"New price:\",price,\"|Type:\",type(price))  # Type can change when values changes"
   ]
  },
  {
   "cell_type": "code",
   "execution_count": 15,
   "id": "f1bbf08b-c776-469d-8d22-d7b6b12a1b80",
   "metadata": {},
   "outputs": [
    {
     "name": "stdout",
     "output_type": "stream",
     "text": [
      "is_raining : True |Type: <class 'bool'>\n",
      "is_raining : False |Type: <class 'bool'>\n"
     ]
    }
   ],
   "source": [
    "# 3\n",
    "is_raining = True\n",
    "print(\"is_raining :\",is_raining ,\"|Type:\",type(is_raining ))\n",
    "\n",
    "is_raining = False\n",
    "print(\"is_raining :\",is_raining ,\"|Type:\",type(is_raining ))"
   ]
  },
  {
   "cell_type": "code",
   "execution_count": 16,
   "id": "6442bded-7916-45a9-9415-bb41a5a0cd0a",
   "metadata": {},
   "outputs": [
    {
     "name": "stdout",
     "output_type": "stream",
     "text": [
      "My name is: Barkha Yadav\n"
     ]
    }
   ],
   "source": [
    "# 4\n",
    "my_name = \"Barkha Yadav\"\n",
    "print(\"My name is:\",my_name)"
   ]
  },
  {
   "cell_type": "code",
   "execution_count": 18,
   "id": "ea16f01e-e4c3-4a4b-bdda-2675ef9e6a6f",
   "metadata": {},
   "outputs": [
    {
     "name": "stdin",
     "output_type": "stream",
     "text": [
      "enter your name:  Barkha\n",
      "enter your age:  22\n"
     ]
    },
    {
     "name": "stdout",
     "output_type": "stream",
     "text": [
      "Hello,Barkha!Yor are 22 years old.\n"
     ]
    }
   ],
   "source": [
    "# 5\n",
    "name = input(\"enter your name: \")\n",
    "age = int(input(\"enter your age: \"))\n",
    "print(f\"Hello,{name}!Yor are {age} years old.\")"
   ]
  },
  {
   "cell_type": "code",
   "execution_count": 19,
   "id": "9c5c594a-5359-4910-9711-56416b56b2c7",
   "metadata": {},
   "outputs": [
    {
     "name": "stdout",
     "output_type": "stream",
     "text": [
      "x: 10 |Type: <class 'int'>\n",
      "y: 3.5 |Type: <class 'float'>\n",
      "sum: 13.5 |Type: <class 'float'>\n"
     ]
    }
   ],
   "source": [
    "# 6\n",
    "x = 10\n",
    "y = 3.5\n",
    "print(\"x:\",x,\"|Type:\",type(x))\n",
    "print(\"y:\",y,\"|Type:\",type(y))\n",
    "\n",
    "sum_xy = x+y\n",
    "print(\"sum:\",sum_xy,\"|Type:\",type(sum_xy))"
   ]
  },
  {
   "cell_type": "code",
   "execution_count": 20,
   "id": "379d126b-b5eb-49bb-a580-f44977b94ea5",
   "metadata": {},
   "outputs": [
    {
     "name": "stdout",
     "output_type": "stream",
     "text": [
      "Type of 45.0: <class 'float'>\n",
      "Type of 'hello': <class 'str'>\n",
      "Type of None: <class 'NoneType'>\n",
      "Type of False: <class 'bool'>\n"
     ]
    }
   ],
   "source": [
    "# 7\n",
    "print(\"Type of 45.0:\",type(45.0))\n",
    "print(\"Type of 'hello':\",type(\"hello\"))\n",
    "print(\"Type of None:\",type(None))\n",
    "print(\"Type of False:\",type(False))"
   ]
  },
  {
   "cell_type": "code",
   "execution_count": 21,
   "id": "3402c3aa-6208-491c-b2a1-7a138867f3b9",
   "metadata": {},
   "outputs": [
    {
     "name": "stdout",
     "output_type": "stream",
     "text": [
      "apple banana cherry\n",
      "apple,banana,cherry\n"
     ]
    }
   ],
   "source": [
    "# 8\n",
    "print(\"apple\",\"banana\",\"cherry\")\n",
    "print(\"apple\",\"banana\",\"cherry\",sep=\",\")"
   ]
  },
  {
   "cell_type": "code",
   "execution_count": 22,
   "id": "cb21cfa2-104b-4d4a-afb7-29cc58389316",
   "metadata": {},
   "outputs": [
    {
     "name": "stdout",
     "output_type": "stream",
     "text": [
      "big_number: 987654321987654321 |Type: <class 'int'>\n"
     ]
    }
   ],
   "source": [
    "# 9\n",
    "big_number = 987654321987654321\n",
    "print(\"big_number:\",big_number,\"|Type:\",type(big_number)) \n",
    "\n",
    "# no fixed size\n"
   ]
  },
  {
   "cell_type": "code",
   "execution_count": 23,
   "id": "dfc2b35a-234b-45a6-81e8-607515ef3ef1",
   "metadata": {},
   "outputs": [
    {
     "name": "stdout",
     "output_type": "stream",
     "text": [
      "result: 9.25\n",
      "Type of result: <class 'float'>\n"
     ]
    }
   ],
   "source": [
    "# 10\n",
    "a = 2.5\n",
    "b = 3.7\n",
    "result = a*b\n",
    "print(\"result:\",result)\n",
    "print(\"Type of result:\",type(result))"
   ]
  },
  {
   "cell_type": "markdown",
   "id": "8554a11e-c0de-47a5-b0af-29996394dae4",
   "metadata": {},
   "source": [
    "Assignment 3"
   ]
  },
  {
   "cell_type": "code",
   "execution_count": 1,
   "id": "ac34d079-5915-4b8d-b4da-34883f32f37f",
   "metadata": {},
   "outputs": [
    {
     "name": "stdout",
     "output_type": "stream",
     "text": [
      "3\n"
     ]
    }
   ],
   "source": [
    "# 1\n",
    "x = 15\n",
    "result = x // 4\n",
    "print(result)\n",
    "\n",
    "# Basically it round down to the nearest integers"
   ]
  },
  {
   "cell_type": "code",
   "execution_count": 5,
   "id": "37db277c-abb7-4493-8c0b-336f312bf849",
   "metadata": {},
   "outputs": [
    {
     "name": "stdout",
     "output_type": "stream",
     "text": [
      "64\n",
      "4.0\n"
     ]
    }
   ],
   "source": [
    "# 2\n",
    "print(8 ** 2)\n",
    "print(16 ** 0.5)\n"
   ]
  },
  {
   "cell_type": "code",
   "execution_count": 19,
   "id": "2dfa8a22-4109-4301-9487-99c06143f7c8",
   "metadata": {},
   "outputs": [
    {
     "name": "stdout",
     "output_type": "stream",
     "text": [
      "10.25\n"
     ]
    }
   ],
   "source": [
    "# 3\n",
    "x = 20 - (5 + 8) * 3 / 4\n",
    "print(x)\n"
   ]
  },
  {
   "cell_type": "code",
   "execution_count": 20,
   "id": "c0c75190-603e-42a7-a7c6-f89ec1f3f75f",
   "metadata": {},
   "outputs": [
    {
     "name": "stdout",
     "output_type": "stream",
     "text": [
      "7.0\n"
     ]
    }
   ],
   "source": [
    "# 4\n",
    "num = 7\n",
    "num_float = float(num)\n",
    "print(num_float)\n",
    "\n",
    "# Both represent the same value but different d(type)"
   ]
  },
  {
   "cell_type": "code",
   "execution_count": 23,
   "id": "a9501890-e592-459b-8494-c16ba006b4a3",
   "metadata": {},
   "outputs": [
    {
     "name": "stdout",
     "output_type": "stream",
     "text": [
      "True\n"
     ]
    }
   ],
   "source": [
    "# 5\n",
    "print(100 > 50)\n",
    " # Boolean "
   ]
  },
  {
   "cell_type": "code",
   "execution_count": 24,
   "id": "e5b98860-9869-4c75-a2c0-9849873c91d8",
   "metadata": {},
   "outputs": [
    {
     "name": "stdout",
     "output_type": "stream",
     "text": [
      "False\n"
     ]
    }
   ],
   "source": [
    "# 6\n",
    "is_sunny = True\n",
    "is_weekend = False\n",
    "print(is_sunny and is_weekend)"
   ]
  },
  {
   "cell_type": "code",
   "execution_count": 29,
   "id": "d539c3e4-8f0e-4d5d-abe2-13ebe613e574",
   "metadata": {},
   "outputs": [
    {
     "name": "stdin",
     "output_type": "stream",
     "text": [
      "enter your password:  my_password123\n"
     ]
    },
    {
     "name": "stdout",
     "output_type": "stream",
     "text": [
      "True\n"
     ]
    }
   ],
   "source": [
    "# 7\n",
    "password = \"my_password123\"\n",
    "user_input = input(\"enter your password: \")\n",
    "print(user_input == password)"
   ]
  },
  {
   "cell_type": "code",
   "execution_count": 30,
   "id": "4e7e6887-da1c-4539-bc8c-e2fa069381a2",
   "metadata": {},
   "outputs": [
    {
     "name": "stdout",
     "output_type": "stream",
     "text": [
      "55\n"
     ]
    }
   ],
   "source": [
    "# 8\n",
    "marks = 50\n",
    "marks += 5\n",
    "print(marks)"
   ]
  },
  {
   "cell_type": "code",
   "execution_count": 31,
   "id": "d63e694d-e2da-4b44-8f87-3334cf014dee",
   "metadata": {},
   "outputs": [
    {
     "name": "stdout",
     "output_type": "stream",
     "text": [
      "10\n"
     ]
    }
   ],
   "source": [
    "# 9\n",
    "a = 0\n",
    "b = 10\n",
    "print(a or b)"
   ]
  },
  {
   "cell_type": "code",
   "execution_count": 32,
   "id": "5df788ab-2a46-4835-909c-d8693a8c5597",
   "metadata": {},
   "outputs": [
    {
     "name": "stdout",
     "output_type": "stream",
     "text": [
      "True\n"
     ]
    }
   ],
   "source": [
    "# 10\n",
    "print(not False)\n",
    "# It reverses the Boolean value"
   ]
  },
  {
   "cell_type": "markdown",
   "id": "cc4b98d6-98ac-4c74-907d-b5f35f722b9f",
   "metadata": {},
   "source": [
    "Assignment 4"
   ]
  },
  {
   "cell_type": "code",
   "execution_count": 33,
   "id": "8bad0644-db21-4344-9234-3220fc2bf4f3",
   "metadata": {},
   "outputs": [
    {
     "name": "stdin",
     "output_type": "stream",
     "text": [
      "enter a number:  25\n"
     ]
    },
    {
     "name": "stdout",
     "output_type": "stream",
     "text": [
      "Odd\n"
     ]
    }
   ],
   "source": [
    "# 1\n",
    "num = int(input(\"enter a number: \"))\n",
    "if num % 2 == 0:\n",
    "    print(\"Even\")\n",
    "else:\n",
    "    print(\"Odd\")\n"
   ]
  },
  {
   "cell_type": "code",
   "execution_count": 34,
   "id": "7b67453d-998d-419b-9a1c-ce6f6f853ed0",
   "metadata": {},
   "outputs": [
    {
     "name": "stdin",
     "output_type": "stream",
     "text": [
      "enter your age:  49\n"
     ]
    },
    {
     "name": "stdout",
     "output_type": "stream",
     "text": [
      "Adult\n"
     ]
    }
   ],
   "source": [
    "# 2\n",
    "age = int(input(\"enter your age: \"))\n",
    "if 0 <= age <= 12:\n",
    "    print(\"Child\")\n",
    "if 13 <= age <= 19:\n",
    "    print(\"Teenager\")\n",
    "if age >= 20:\n",
    "    print(\"Adult\")\n",
    "else:\n",
    "    print(\"Invalid age\")\n"
   ]
  },
  {
   "cell_type": "code",
   "execution_count": 1,
   "id": "95fcb8b5-58d5-4d92-8b3e-168f33a662f7",
   "metadata": {},
   "outputs": [
    {
     "name": "stdin",
     "output_type": "stream",
     "text": [
      "enter first number:  56\n",
      "enter second number:  56\n"
     ]
    },
    {
     "name": "stdout",
     "output_type": "stream",
     "text": [
      "both numbers are equal\n"
     ]
    }
   ],
   "source": [
    "# 3\n",
    "a = int(input(\"enter first number: \"))\n",
    "b = int(input(\"enter second number: \"))\n",
    "if a > b:\n",
    "    print(a, \"is larger\")\n",
    "elif b > a:\n",
    "    print(b, \"is larger\")\n",
    "else:\n",
    "    print(\"both numbers are equal\")"
   ]
  },
  {
   "cell_type": "code",
   "execution_count": 2,
   "id": "87ee2aa4-1ec3-45db-9a64-cd02769ed563",
   "metadata": {},
   "outputs": [
    {
     "name": "stdin",
     "output_type": "stream",
     "text": [
      "enter password:  SecurePassword\n"
     ]
    },
    {
     "name": "stdout",
     "output_type": "stream",
     "text": [
      "Access Granted\n"
     ]
    }
   ],
   "source": [
    "# 4\n",
    "password = \"SecurePassword\"\n",
    "user_input = input(\"enter password: \")\n",
    "if user_input == password:\n",
    "    print(\"Access Granted\")\n",
    "else:\n",
    "    print(\"Access Denied\")"
   ]
  },
  {
   "cell_type": "code",
   "execution_count": 1,
   "id": "ef20bb48-8fe4-4360-94b3-53b5c173d062",
   "metadata": {},
   "outputs": [
    {
     "name": "stdin",
     "output_type": "stream",
     "text": [
      "enter score(0-100):  96\n"
     ]
    },
    {
     "name": "stdout",
     "output_type": "stream",
     "text": [
      "Grade: A\n"
     ]
    }
   ],
   "source": [
    "# 5\n",
    "x = int(input(\"enter score(0-100): \"))\n",
    "if 90 <= x <= 100:\n",
    "    print(\"Grade: A\")\n",
    "elif 80 <= x <= 89:\n",
    "    print(\"Grade: B\")\n",
    "elif 70 <= x <= 79:\n",
    "    print(\"Grade: C\")\n",
    "elif 60 <= x <= 69:\n",
    "    print(\"Grade: D\")\n",
    "elif 50 <= x <= 59:\n",
    "    print(\"Grade: F\")\n",
    "else:\n",
    "    print(\"Invalid Score\")"
   ]
  },
  {
   "cell_type": "code",
   "execution_count": 4,
   "id": "3c6a1878-2eab-4c33-8981-3d398932ac9b",
   "metadata": {},
   "outputs": [
    {
     "name": "stdin",
     "output_type": "stream",
     "text": [
      "enter a number:  -8\n"
     ]
    },
    {
     "name": "stdout",
     "output_type": "stream",
     "text": [
      " Negative\n"
     ]
    }
   ],
   "source": [
    "# 6\n",
    "num = int(input(\"enter a number: \"))\n",
    "if num > 0:\n",
    "    print(\"Positive\")\n",
    "elif num < 0:\n",
    "    print(\" Negative\")\n",
    "else:\n",
    "    print(\"Zero\")"
   ]
  },
  {
   "cell_type": "code",
   "execution_count": 5,
   "id": "ab84df33-7a89-4fe2-8b73-4ba04df4e76a",
   "metadata": {},
   "outputs": [
    {
     "name": "stdin",
     "output_type": "stream",
     "text": [
      "enter first number:  56\n",
      "enter Second number:  88\n",
      "enter Third number:  92\n"
     ]
    },
    {
     "name": "stdout",
     "output_type": "stream",
     "text": [
      "Largest: 92\n"
     ]
    }
   ],
   "source": [
    "# 7\n",
    "x = int(input(\"enter first number: \"))\n",
    "y = int(input(\"enter Second number: \"))\n",
    "z = int(input(\"enter Third number: \"))\n",
    "\n",
    "if x >= y and x >= z:\n",
    "    print(\"Largest:\",x)\n",
    "elif y >= x and y >= z:\n",
    "    print(\"Largest:\",y)\n",
    "else:\n",
    "    print(\"Largest:\",z)"
   ]
  },
  {
   "cell_type": "code",
   "execution_count": 9,
   "id": "afee593b-b614-46c3-b996-c54815898da3",
   "metadata": {},
   "outputs": [
    {
     "name": "stdin",
     "output_type": "stream",
     "text": [
      "enter a single character:  B\n"
     ]
    },
    {
     "name": "stdout",
     "output_type": "stream",
     "text": [
      "Consonant\n"
     ]
    }
   ],
   "source": [
    "# 8\n",
    "char = input(\"enter a single character: \").lower()\n",
    "if char in \"aeiou\":\n",
    "    print(\"Vowel\")\n",
    "elif char.isalpha():\n",
    "    print(\"Consonant\")\n",
    "else:\n",
    "    print(\"Not a letter\")"
   ]
  },
  {
   "cell_type": "code",
   "execution_count": 10,
   "id": "4c5bd1f2-113c-40b2-93e4-2edd21500781",
   "metadata": {},
   "outputs": [
    {
     "name": "stdin",
     "output_type": "stream",
     "text": [
      "enter a year:  456\n"
     ]
    },
    {
     "name": "stdout",
     "output_type": "stream",
     "text": [
      "Leap Year\n"
     ]
    }
   ],
   "source": [
    "# 9\n",
    "year = int(input(\"enter a year: \"))\n",
    "if(year % 4 == 0 and year % 100 != 0) or (year % 400 == 0):\n",
    "    print(\"Leap Year\")\n",
    "else:\n",
    "    print(\"Not a Leap Year\")"
   ]
  },
  {
   "cell_type": "code",
   "execution_count": 11,
   "id": "38c8b1fe-cf10-4535-b4ed-91f212e763b5",
   "metadata": {},
   "outputs": [
    {
     "name": "stdin",
     "output_type": "stream",
     "text": [
      "enter temperature in celsius:  95\n"
     ]
    },
    {
     "name": "stdout",
     "output_type": "stream",
     "text": [
      "Temperature in fahrenheit: 203.0\n",
      "It's boiling!\n"
     ]
    }
   ],
   "source": [
    "# 10\n",
    "celsius = float(input(\"enter temperature in celsius: \"))\n",
    "fahrenheit = (celsius * 9/5) + 32\n",
    "print(\"Temperature in fahrenheit:\",fahrenheit)\n",
    "\n",
    "if fahrenheit > 100:\n",
    "    print(\"It's boiling!\")\n",
    "else:\n",
    "    print(\"It's not boiling yet.\")"
   ]
  },
  {
   "cell_type": "markdown",
   "id": "351883a7-d80b-4183-a757-78959f66ea84",
   "metadata": {},
   "source": []
  },
  {
   "cell_type": "code",
   "execution_count": null,
   "id": "d23cfa52-41df-423d-bf4b-28bc22b66b03",
   "metadata": {},
   "outputs": [],
   "source": [
    "\n"
   ]
  }
 ],
 "metadata": {
  "kernelspec": {
   "display_name": "Python 3 (ipykernel)",
   "language": "python",
   "name": "python3"
  },
  "language_info": {
   "codemirror_mode": {
    "name": "ipython",
    "version": 3
   },
   "file_extension": ".py",
   "mimetype": "text/x-python",
   "name": "python",
   "nbconvert_exporter": "python",
   "pygments_lexer": "ipython3",
   "version": "3.13.5"
  }
 },
 "nbformat": 4,
 "nbformat_minor": 5
}
