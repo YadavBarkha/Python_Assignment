{
 "cells": [
  {
   "cell_type": "markdown",
   "id": "6c559aeb-8aa2-43a7-a71b-457cc0e8a8b3",
   "metadata": {},
   "source": [
    "Assignment 1"
   ]
  },
  {
   "cell_type": "code",
   "execution_count": 1,
   "id": "9c88d738-368a-42d4-b1a2-766f30695fdc",
   "metadata": {},
   "outputs": [
    {
     "name": "stdout",
     "output_type": "stream",
     "text": [
      "Barkha Yadav\n",
      "White\n",
      "Black\n"
     ]
    }
   ],
   "source": [
    "#1\n",
    "print(\"Barkha Yadav\")\n",
    "print(\"White\")\n",
    "print(\"Black\")"
   ]
  },
  {
   "cell_type": "code",
   "execution_count": 2,
   "id": "05b774de-688c-41e6-b880-299b26df6080",
   "metadata": {},
   "outputs": [
    {
     "name": "stdout",
     "output_type": "stream",
     "text": [
      "15\n"
     ]
    }
   ],
   "source": [
    "#2\n",
    "print(7+8)"
   ]
  },
  {
   "cell_type": "code",
   "execution_count": 5,
   "id": "c8f588e5-277a-454e-8eff-5621ad2e6adc",
   "metadata": {},
   "outputs": [
    {
     "name": "stdout",
     "output_type": "stream",
     "text": [
      "Python is fun! \n",
      "let's learn together.\n"
     ]
    }
   ],
   "source": [
    "#3\n",
    "print(\"Python is fun! \\nlet's learn together.\")\n",
    "       "
   ]
  },
  {
   "cell_type": "code",
   "execution_count": 6,
   "id": "69c9d615-e49a-43cf-b7c8-d8cb3caaaf59",
   "metadata": {},
   "outputs": [
    {
     "name": "stdout",
     "output_type": "stream",
     "text": [
      "54\n"
     ]
    }
   ],
   "source": [
    "#4\n",
    "print(6*9)"
   ]
  },
  {
   "cell_type": "code",
   "execution_count": 11,
   "id": "6c716fed-de93-47d8-8aaa-bce1cbb83b5d",
   "metadata": {},
   "outputs": [
    {
     "name": "stdout",
     "output_type": "stream",
     "text": [
      "5+5 = 10 and 2*3 = 6\n"
     ]
    }
   ],
   "source": [
    "#5\n",
    "print(f\"5+5 = {5+5} and 2*3 = {2*3}\")"
   ]
  },
  {
   "cell_type": "code",
   "execution_count": 15,
   "id": "26420abe-d5fb-414b-a79f-214627170ddd",
   "metadata": {},
   "outputs": [
    {
     "name": "stdin",
     "output_type": "stream",
     "text": [
      "enter your name:  A\n"
     ]
    },
    {
     "name": "stdout",
     "output_type": "stream",
     "text": [
      "Hello A\n"
     ]
    }
   ],
   "source": [
    "#6 \n",
    "name = input(\"enter your name: \")\n",
    "print(\"Hello\",name)"
   ]
  },
  {
   "cell_type": "code",
   "execution_count": 18,
   "id": "66f3cfbb-5d97-4b41-b1ae-d415114b0f2e",
   "metadata": {},
   "outputs": [
    {
     "name": "stdin",
     "output_type": "stream",
     "text": [
      "enter your savings:  25000\n",
      "enter amount to Google Pay:  8000\n"
     ]
    },
    {
     "name": "stdout",
     "output_type": "stream",
     "text": [
      "Bank Balance 17000\n"
     ]
    }
   ],
   "source": [
    "#7\n",
    "x =int(input(\"enter your savings: \"))\n",
    "y = int(input(\"enter amount to Google Pay: \"))\n",
    "print(\"Bank Balance\",x-y)"
   ]
  },
  {
   "cell_type": "code",
   "execution_count": 19,
   "id": "7a8ddc53-4e64-416a-bd2f-c75dcdbd95ef",
   "metadata": {},
   "outputs": [
    {
     "name": "stdout",
     "output_type": "stream",
     "text": [
      "A\n",
      "B\n",
      "C\n",
      "D\n",
      "E\n"
     ]
    }
   ],
   "source": [
    "#8\n",
    "print(\"A\")\n",
    "print(\"B\")\n",
    "print(\"C\")\n",
    "print(\"D\")\n",
    "print(\"E\")"
   ]
  },
  {
   "cell_type": "code",
   "execution_count": 22,
   "id": "d810a330-d56a-4b66-8d43-ed15a3d31917",
   "metadata": {},
   "outputs": [
    {
     "name": "stdin",
     "output_type": "stream",
     "text": [
      "enter your name:  A\n",
      "enter your name:  B\n"
     ]
    },
    {
     "name": "stdout",
     "output_type": "stream",
     "text": [
      "A says Hi to B\n"
     ]
    }
   ],
   "source": [
    "#9\n",
    "A =input(\"enter your name: \")\n",
    "B = input(\"enter your name: \")\n",
    "print(A, \"says Hi to\",B)"
   ]
  },
  {
   "cell_type": "code",
   "execution_count": null,
   "id": "f2b7c2fd-3e09-4b42-9c32-94cc7fd994ba",
   "metadata": {},
   "outputs": [],
   "source": []
  }
 ],
 "metadata": {
  "kernelspec": {
   "display_name": "Python 3 (ipykernel)",
   "language": "python",
   "name": "python3"
  },
  "language_info": {
   "codemirror_mode": {
    "name": "ipython",
    "version": 3
   },
   "file_extension": ".py",
   "mimetype": "text/x-python",
   "name": "python",
   "nbconvert_exporter": "python",
   "pygments_lexer": "ipython3",
   "version": "3.13.5"
  }
 },
 "nbformat": 4,
 "nbformat_minor": 5
}
